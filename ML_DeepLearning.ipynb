{
 "cells": [
  {
   "cell_type": "markdown",
   "metadata": {},
   "source": [
    "# CSE 152: Intro to Computer Vision - Spring 2019 Assignment 4\n",
    "## Instructor: David Kriegman\n",
    "### Assignment published on Wednesday, May 29, 2019\n",
    "### Due on Friday, June 7, 2019 at 11:59pm\n",
    "\n",
    "## Instructions\n",
    "* This assignment must be completed individually. Review the academic integrity and collaboration policies on the course website.\n",
    "* All solutions should be written in this notebook. Show your work for written questions.\n",
    "* If you want to modify the skeleton code, you may do so. It has been merely been provided as a framework for your solution.\n",
    "* You may use Python packages for basic linear algebra (e.g. NumPy or SciPy for basic operations), but you may not use packages that directly solve the problem. If you are unsure about using a specific package or function, ask the instructor and/or teaching assistants for clarification.\n",
    "* You must submit this notebook exported as a PDF. You must also submit this notebook as an `.ipynb` file. Submit both files (`.pdf` and `.ipynb`) on Gradescope. **You must mark the PDF pages associated with each question in Gradescope. If you fail to do so, we may dock points.**\n",
    "* It is highly recommended that you begin working on this assignment early.\n",
    "* **Late policy:** a penalty of 10% per day after the due date.\n",
    "\n",
    "---"
   ]
  },
  {
   "cell_type": "markdown",
   "metadata": {},
   "source": [
    "## Problem 1: Machine Learning [10 pts]\n",
    "\n",
    "In this problem, you will implement K-Nearest Neighbors (KNN) algorithm for computer vision problems."
   ]
  },
  {
   "cell_type": "markdown",
   "metadata": {},
   "source": [
    "### Part 1: Data preparation [1 pts]\n",
    "\n",
    "Download the MNIST data from http://yann.lecun.com/exdb/mnist/.\n",
    "\n",
    "Download the 4 zipped files, extract them into one folder, and change the variable 'path' in the code below. (Code taken from https://gist.github.com/akesling/5358964 )\n",
    "\n",
    "Plot one random example image corresponding to each label from the training data."
   ]
  },
  {
   "cell_type": "code",
   "execution_count": 1,
   "metadata": {},
   "outputs": [],
   "source": [
    "import os\n",
    "import struct\n",
    "import numpy as np\n",
    "\n",
    "# Change path as required\n",
    "path = \"/home/apurba/Documents/quarter_3/cse_152_cv/HW4/mnist_data\"\n",
    "\n",
    "def read(dataset=\"training\", datatype='images'):\n",
    "    \"\"\"\n",
    "    Python function for importing the MNIST data set.  It returns an iterator\n",
    "    of 2-tuples with the first element being the label and the second element\n",
    "    being a numpy.uint8 2D array of pixel data for the given image.\n",
    "    \"\"\"\n",
    "\n",
    "    if dataset is \"training\":\n",
    "        fname_img = os.path.join(path, 'train-images-idx3-ubyte')\n",
    "        fname_lbl = os.path.join(path, 'train-labels-idx1-ubyte')\n",
    "    elif dataset is \"testing\":\n",
    "        fname_img = os.path.join(path, 't10k-images-idx3-ubyte')\n",
    "        fname_lbl = os.path.join(path, 't10k-labels-idx1-ubyte')\n",
    "\n",
    "    # Load everything in some numpy arrays\n",
    "    with open(fname_lbl, 'rb') as flbl:\n",
    "        magic, num = struct.unpack(\">II\", flbl.read(8))\n",
    "        lbl = np.fromfile(flbl, dtype=np.int8)\n",
    "\n",
    "    with open(fname_img, 'rb') as fimg:\n",
    "        magic, num, rows, cols = struct.unpack(\">IIII\", fimg.read(16))\n",
    "        img = np.fromfile(fimg, dtype=np.uint8).reshape(len(lbl), rows, cols)\n",
    "    \n",
    "    if(datatype=='images'):\n",
    "        get_data = lambda idx: img[idx]\n",
    "    elif(datatype=='labels'):\n",
    "        get_data = lambda idx: lbl[idx]\n",
    "\n",
    "    # Create an iterator which returns each image in turn\n",
    "    for i in range(len(lbl)):\n",
    "        yield get_data(i)\n",
    "        \n",
    "trainData=np.array(list(read('training','images')))\n",
    "trainLabels=np.array(list(read('training','labels')))\n",
    "testData=np.array(list(read('testing','images')))\n",
    "testLabels=np.array(list(read('testing','labels')))\n",
    "\n"
   ]
  },
  {
   "cell_type": "markdown",
   "metadata": {},
   "source": [
    "Some helper functions are given below."
   ]
  },
  {
   "cell_type": "code",
   "execution_count": 15,
   "metadata": {},
   "outputs": [
    {
     "name": "stdout",
     "output_type": "stream",
     "text": [
      "Random classifier accuracy: 9.510000 \n",
      "\n",
      "Plot random training images for each class:\n"
     ]
    },
    {
     "data": {
      "image/png": "[encoded data removed]",
      "text/plain": [
       "<Figure size 432x288 with 10 Axes>"
      ]
     },
     "metadata": {
      "needs_background": "light"
     },
     "output_type": "display_data"
    }
   ],
   "source": [
    "# a generator for batches of data\n",
    "# yields data (batchsize, 3, 32, 32) and labels (batchsize)\n",
    "# if shuffle, it will load batches in a random order\n",
    "import matplotlib.pyplot as plt\n",
    "def DataBatch(data, label, batchsize, shuffle=True):\n",
    "    n = data.shape[0]\n",
    "    if shuffle:\n",
    "        index = np.random.permutation(n)\n",
    "    else:\n",
    "        index = np.arange(n)\n",
    "    for i in range(int(np.ceil(n/batchsize))):\n",
    "        inds = index[i*batchsize : min(n,(i+1)*batchsize)]\n",
    "        yield data[inds], label[inds]\n",
    "\n",
    "# tests the accuracy of a classifier\n",
    "def test(testData, testLabels, classifier):\n",
    "    batchsize=50\n",
    "    correct=0.\n",
    "    for data,label in DataBatch(testData,testLabels,batchsize,shuffle=False):\n",
    "        prediction = classifier(data)\n",
    "        correct += np.sum(prediction==label)\n",
    "    return correct/testData.shape[0]*100\n",
    "\n",
    "# a sample classifier\n",
    "# given an input it outputs a random class\n",
    "class RandomClassifier():\n",
    "    def __init__(self, classes=10):\n",
    "        self.classes=classes\n",
    "    def __call__(self, x):\n",
    "        return np.random.randint(self.classes, size=x.shape[0])\n",
    "\n",
    "randomClassifier = RandomClassifier()\n",
    "print('Random classifier accuracy: %f \\n' % \n",
    "      test(testData, testLabels, randomClassifier))\n",
    "\n",
    "print('Plot random training images for each class:')\n",
    "count = 0\n",
    "check = np.zeros(10)\n",
    "imgs = np.zeros((10, 28, 28))\n",
    "for img, lb in DataBatch(trainData, trainLabels, 1, shuffle=True):\n",
    "    img = np.squeeze(img)\n",
    "    if check[lb] == 1:\n",
    "        continue\n",
    "    else:\n",
    "        check[lb] += 1\n",
    "        count += 1\n",
    "        imgs[lb,:,:] = img\n",
    "    if count == 10:\n",
    "        break\n",
    "\n",
    "fig, ax = plt.subplots(nrows=2, ncols=5)\n",
    "i = 0\n",
    "for row in ax:\n",
    "    for col in row:\n",
    "        col.imshow(imgs[i,:,:])\n",
    "        i += 1\n",
    "\n",
    "plt.show()"
   ]
  },
  {
   "cell_type": "markdown",
   "metadata": {},
   "source": [
    "### Part 2: Confusion Matrix [3 pts]\n",
    "Here you will implement a function that computes the confusion matrix for a classifier.\n",
    "The matrix (M) should be nxn where n is the number of classes.\n",
    "Entry M[i,j] should contain the fraction of images of class i that were classified as class j."
   ]
  },
  {
   "cell_type": "code",
   "execution_count": 17,
   "metadata": {},
   "outputs": [
    {
     "data": {
      "image/png": "[encoded data removed]",
      "text/plain": [
       "<Figure size 1008x432 with 1 Axes>"
      ]
     },
     "metadata": {
      "needs_background": "light"
     },
     "output_type": "display_data"
    },
    {
     "name": "stdout",
     "output_type": "stream",
     "text": [
      "[[0.1  0.07 0.09 0.1  0.1  0.11 0.1  0.1  0.11 0.09]\n",
      " [0.11 0.1  0.1  0.11 0.12 0.13 0.12 0.11 0.11 0.15]\n",
      " [0.12 0.08 0.08 0.1  0.12 0.11 0.12 0.1  0.1  0.11]\n",
      " [0.12 0.09 0.1  0.11 0.11 0.1  0.11 0.1  0.1  0.07]\n",
      " [0.12 0.08 0.08 0.1  0.1  0.1  0.11 0.09 0.11 0.09]\n",
      " [0.09 0.08 0.09 0.12 0.09 0.09 0.09 0.07 0.09 0.08]\n",
      " [0.09 0.08 0.08 0.1  0.09 0.1  0.11 0.11 0.09 0.11]\n",
      " [0.1  0.07 0.1  0.09 0.11 0.13 0.11 0.1  0.12 0.1 ]\n",
      " [0.08 0.1  0.08 0.08 0.11 0.11 0.1  0.11 0.11 0.08]\n",
      " [0.09 0.08 0.12 0.1  0.11 0.11 0.1  0.09 0.11 0.1 ]]\n"
     ]
    }
   ],
   "source": [
    "# Using the tqdm module to visualize run time is suggested\n",
    "from tqdm import tqdm\n",
    "import time\n",
    "\n",
    "# It would be a good idea to return the accuracy, along with the confusion \n",
    "# matrix, since both can be calculated in one iteration over test data, to \n",
    "# save time\n",
    "def Confusion(testData, testLabels, classifier):\n",
    "    '''\n",
    "    Your code here\n",
    "    '''\n",
    "    M = np.zeros((10,10))\n",
    "    #10000 array\n",
    "    predicted_values= classifier(testData)\n",
    "    for i in range(0, predicted_values.shape[0]):\n",
    "        M[testLabels[i],predicted_values[i]]+=1\n",
    "    \n",
    "    #now find the accuracy\n",
    "    accuracy = np.trace(M)/predicted_values.shape[0]\n",
    "    M= M/np.sum(M,axis=1)\n",
    "    return M, accuracy\n",
    "\n",
    "def VisualizeConfusion(M):\n",
    "    plt.figure(figsize=(14, 6))\n",
    "    plt.imshow(M)\n",
    "    plt.show()\n",
    "    print(np.round(M,2))\n",
    "    \n",
    "M, _ = Confusion(testData, testLabels, randomClassifier)\n",
    "VisualizeConfusion(M)"
   ]
  },
  {
   "cell_type": "markdown",
   "metadata": {},
   "source": [
    "### Part 3: K-Nearest Neighbors (KNN) [6 pts]\n",
    "\n",
    "* Here you will implement a simple knn classifier. The distance metric is Euclidean in pixel space. k refers to the number of neighbors involved in voting on the class, and should be 3. You are allowed to use sklearn.neighbors.KNeighborsClassifier.\n",
    "* Display the confusion matrix and accuracy for your KNN classifier trained on the entire training dataset. (should be ~97%)\n",
    "* After evaluating the classifier on the test set, based on the confusion matrix, mention the number that the number '4' is most often predicted to be, other than '4'. Write your comment below."
   ]
  },
  {
   "cell_type": "code",
   "execution_count": 18,
   "metadata": {},
   "outputs": [
    {
     "name": "stdout",
     "output_type": "stream",
     "text": [
      "KNN classifier accuracy: 64.760000\n"
     ]
    }
   ],
   "source": [
    "from sklearn.neighbors import KNeighborsClassifier\n",
    "import numpy as np\n",
    "import matplotlib.pyplot as plt\n",
    "class KNNClassifer():\n",
    "    def __init__(self, k=3):\n",
    "        # k is the number of neighbors involved in voting\n",
    "        self.knn_model = KNeighborsClassifier(k)\n",
    "        \n",
    "\n",
    "    def train(self, trainData, trainLabels):\n",
    "        '''\n",
    "        your code here\n",
    "        '''\n",
    "        trainData_reshape = trainData.reshape(trainData.shape[0], -1)\n",
    "        self.knn_model.fit(trainData_reshape, trainLabels)\n",
    "        \n",
    "    def __call__(self, x):\n",
    "        # this method should take a batch of images\n",
    "        # and return a batch of predictions\n",
    "        '''\n",
    "        your code here\n",
    "        '''\n",
    "        x_reshape = x.reshape(x.shape[0],-1)\n",
    "        return self.knn_model.predict(x_reshape)\n",
    "# test your classifier with only the first 100 training examples (use this\n",
    "# while debugging)\n",
    "# note you should get ~ 65 % accuracy\n",
    "knnClassiferX = KNNClassifer()\n",
    "knnClassiferX.train(trainData[:100], trainLabels[:100])\n",
    "print ('KNN classifier accuracy: %f'%test(testData, testLabels, knnClassiferX))"
   ]
  },
  {
   "cell_type": "code",
   "execution_count": 21,
   "metadata": {},
   "outputs": [
    {
     "data": {
      "image/png": "[encoded data removed]",
      "text/plain": [
       "<Figure size 1008x432 with 1 Axes>"
      ]
     },
     "metadata": {
      "needs_background": "light"
     },
     "output_type": "display_data"
    },
    {
     "name": "stdout",
     "output_type": "stream",
     "text": [
      "[[0.92 0.01 0.   0.01 0.01 0.01 0.03 0.01 0.   0.  ]\n",
      " [0.   1.   0.   0.   0.   0.   0.   0.   0.   0.  ]\n",
      " [0.03 0.38 0.39 0.02 0.05 0.01 0.03 0.02 0.04 0.01]\n",
      " [0.04 0.06 0.02 0.8  0.01 0.   0.   0.01 0.03 0.01]\n",
      " [0.   0.07 0.   0.01 0.66 0.   0.02 0.01 0.   0.2 ]\n",
      " [0.07 0.06 0.01 0.35 0.07 0.19 0.05 0.03 0.03 0.06]\n",
      " [0.03 0.06 0.01 0.01 0.06 0.01 0.8  0.   0.   0.  ]\n",
      " [0.   0.1  0.01 0.02 0.05 0.   0.   0.69 0.01 0.12]\n",
      " [0.08 0.11 0.05 0.12 0.05 0.01 0.04 0.02 0.47 0.04]\n",
      " [0.02 0.03 0.01 0.06 0.35 0.   0.01 0.07 0.   0.47]]\n",
      "[[9.17346939e-01 5.28634361e-03 9.68992248e-04 1.18811881e-02\n",
      "  7.12830957e-03 1.23318386e-02 3.02713987e-02 9.72762646e-03\n",
      "  0.00000000e+00 4.95540139e-03]\n",
      " [0.00000000e+00 9.99118943e-01 0.00000000e+00 9.90099010e-04\n",
      "  0.00000000e+00 0.00000000e+00 0.00000000e+00 0.00000000e+00\n",
      "  0.00000000e+00 0.00000000e+00]\n",
      " [3.26530612e-02 3.77092511e-01 3.94379845e-01 1.78217822e-02\n",
      "  5.09164969e-02 6.72645740e-03 2.50521921e-02 2.33463035e-02\n",
      "  3.59342916e-02 7.92864222e-03]\n",
      " [4.28571429e-02 6.43171806e-02 1.84108527e-02 8.04950495e-01\n",
      "  5.09164969e-03 3.36322870e-03 2.08768267e-03 8.75486381e-03\n",
      "  3.18275154e-02 1.28840436e-02]\n",
      " [2.04081633e-03 6.87224670e-02 2.90697674e-03 5.94059406e-03\n",
      "  6.63951120e-01 1.12107623e-03 2.40083507e-02 1.16731518e-02\n",
      "  0.00000000e+00 2.03171457e-01]\n",
      " [7.14285714e-02 5.99118943e-02 1.06589147e-02 3.48514851e-01\n",
      "  6.61914460e-02 1.89461883e-01 4.59290188e-02 2.62645914e-02\n",
      "  3.08008214e-02 5.55004955e-02]\n",
      " [3.26530612e-02 6.34361233e-02 6.78294574e-03 6.93069307e-03\n",
      "  6.21181263e-02 6.72645740e-03 8.04801670e-01 9.72762646e-04\n",
      "  0.00000000e+00 9.91080278e-04]\n",
      " [1.02040816e-03 1.00440529e-01 7.75193798e-03 1.78217822e-02\n",
      "  5.49898167e-02 0.00000000e+00 1.04384134e-03 6.86770428e-01\n",
      "  9.24024641e-03 1.15956392e-01]\n",
      " [7.55102041e-02 1.05726872e-01 5.23255814e-02 1.16831683e-01\n",
      "  4.68431772e-02 5.60538117e-03 3.96659708e-02 2.04280156e-02\n",
      "  4.66119097e-01 4.36075322e-02]\n",
      " [1.53061224e-02 3.08370044e-02 1.25968992e-02 5.64356436e-02\n",
      "  3.46232179e-01 0.00000000e+00 6.26304802e-03 6.80933852e-02\n",
      "  2.05338809e-03 4.66798811e-01]]\n",
      "Linear classifier accuracy: 0.647600\n"
     ]
    }
   ],
   "source": [
    "M,accuracy = Confusion(testData, testLabels, knnClassiferX)\n",
    "VisualizeConfusion(M)\n",
    "print(M)\n",
    "print ('Linear classifier accuracy: %f'%accuracy)"
   ]
  },
  {
   "cell_type": "code",
   "execution_count": 22,
   "metadata": {},
   "outputs": [
    {
     "name": "stdout",
     "output_type": "stream",
     "text": [
      "The second maximum element 9\n"
     ]
    }
   ],
   "source": [
    "array_4 =M[4]\n",
    "print(\"The second maximum element\",array_4.argsort()[-2])"
   ]
  },
  {
   "cell_type": "markdown",
   "metadata": {},
   "source": [
    "### Comment:\n",
    "The second most number that 4 is predicted to be after 4 itself is 9. This is so because 9 resembles 4 the most after 4."
   ]
  },
  {
   "cell_type": "code",
   "execution_count": 29,
   "metadata": {},
   "outputs": [
    {
     "name": "stdout",
     "output_type": "stream",
     "text": [
      "KNN classifier accuracy: 97.050000\n"
     ]
    }
   ],
   "source": [
    "\n",
    "# test your classifier trained with all the training examples (This may take a while)\n",
    "knnClassifer = KNNClassifer()\n",
    "knnClassifer.train(trainData, trainLabels)\n",
    "print ('KNN classifier accuracy: %f'%test(testData, testLabels, knnClassifer))\n",
    "# display confusion matrix for your KNN classifier with all the training examples\n",
    "\n",
    "M,accuracy = Confusion(testData, testLabels, knnClassifer)\n",
    "\n",
    "\n"
   ]
  },
  {
   "cell_type": "code",
   "execution_count": 30,
   "metadata": {},
   "outputs": [
    {
     "data": {
      "image/png": "[encoded data removed]",
      "text/plain": [
       "<Figure size 1008x432 with 1 Axes>"
      ]
     },
     "metadata": {
      "needs_background": "light"
     },
     "output_type": "display_data"
    },
    {
     "name": "stdout",
     "output_type": "stream",
     "text": [
      "[[0.99 0.   0.   0.   0.   0.   0.   0.   0.   0.  ]\n",
      " [0.   1.   0.   0.   0.   0.   0.   0.   0.   0.  ]\n",
      " [0.01 0.01 0.97 0.   0.   0.   0.   0.01 0.   0.  ]\n",
      " [0.   0.   0.   0.97 0.   0.01 0.   0.01 0.   0.  ]\n",
      " [0.   0.01 0.   0.   0.97 0.   0.   0.   0.   0.02]\n",
      " [0.01 0.   0.   0.01 0.   0.96 0.01 0.   0.   0.  ]\n",
      " [0.01 0.   0.   0.   0.   0.   0.99 0.   0.   0.  ]\n",
      " [0.   0.02 0.   0.   0.   0.   0.   0.96 0.   0.01]\n",
      " [0.01 0.   0.   0.02 0.01 0.01 0.   0.   0.94 0.  ]\n",
      " [0.   0.   0.   0.01 0.01 0.   0.   0.01 0.   0.96]]\n",
      "Accuracy of the KNN is 0.9705\n"
     ]
    }
   ],
   "source": [
    "VisualizeConfusion(M)\n",
    "print(\"Accuracy of the KNN is\",accuracy)"
   ]
  },
  {
   "cell_type": "code",
   "execution_count": 31,
   "metadata": {},
   "outputs": [
    {
     "name": "stdout",
     "output_type": "stream",
     "text": [
      "The second maximum element 9\n"
     ]
    }
   ],
   "source": [
    "array_4 =M[4]\n",
    "print(\"The second maximum element\",array_4.argsort()[-2])"
   ]
  },
  {
   "cell_type": "markdown",
   "metadata": {},
   "source": [
    "### Comment:\n",
    "The second most number that 4 is predicted to be after 4 itself is 9. This is so because 9 resembles 4 the most after 4."
   ]
  },
  {
   "cell_type": "markdown",
   "metadata": {},
   "source": [
    "## Problem 2: Deep Learning [18 pts]"
   ]
  },
  {
   "cell_type": "markdown",
   "metadata": {},
   "source": [
    "### Part 1: Initial setup [0 pts]\n",
    "\n",
    "Follow the directions on https://pytorch.org/get-started/locally/ to install PyTorch on your computer.\n",
    "\n",
    "Note: You will not need GPU support for this assignment so don't worry if you don't have one. In any case, installing with GPU support is often more difficult to configure, so it is suggested that you install the CPU-only version regardless.\n",
    "\n",
    "To ensure that PyTorch was installed correctly, we will now verify the installation by running some sample PyTorch code. Here we construct a randomly initialized tensor."
   ]
  },
  {
   "cell_type": "code",
   "execution_count": 6,
   "metadata": {},
   "outputs": [
    {
     "name": "stdout",
     "output_type": "stream",
     "text": [
      "tensor([[0.6292, 0.7832, 0.7472],\n",
      "        [0.7347, 0.7767, 0.6589],\n",
      "        [0.0705, 0.1515, 0.4561],\n",
      "        [0.3218, 0.1807, 0.6005],\n",
      "        [0.7806, 0.9664, 0.8590]])\n"
     ]
    }
   ],
   "source": [
    "from __future__ import print_function\n",
    "import torch\n",
    "x = torch.rand(5, 3)\n",
    "print(x)"
   ]
  },
  {
   "cell_type": "markdown",
   "metadata": {},
   "source": [
    "### Part 2:  Training with PyTorch [3 pts]\n",
    "Below is some helper code to train your deep networks. \n",
    "Complete the train function for PTClassifier below. You should write down the training operations in this function. This function will be used in the following questions with different networks.\n",
    "You can look at https://pytorch.org/tutorials/beginner/pytorch_with_examples.html for reference."
   ]
  },
  {
   "cell_type": "code",
   "execution_count": 7,
   "metadata": {},
   "outputs": [
    {
     "name": "stdout",
     "output_type": "stream",
     "text": [
      "Epoch:1 Accuracy: 89.320000\n",
      "Epoch:2 Accuracy: 90.720000\n",
      "Epoch:3 Accuracy: 91.390000\n",
      "Epoch:4 Accuracy: 91.620000\n",
      "Epoch:5 Accuracy: 91.880000\n",
      "Epoch:6 Accuracy: 92.040000\n",
      "Epoch:7 Accuracy: 92.130000\n",
      "Epoch:8 Accuracy: 92.250000\n",
      "Epoch:9 Accuracy: 92.320000\n",
      "Epoch:10 Accuracy: 92.300000\n",
      "Linear classifier accuracy: 92.300000\n"
     ]
    }
   ],
   "source": [
    "# base class for your PyTorch networks. It implements the training loop\n",
    "# (__init__), (train) and prediction(__call__)  for you.\n",
    "# You will need to complete the (train) function to define the training operations\n",
    "# structures in the following problems.\n",
    "import torch.nn as nn\n",
    "from torch.nn.parameter import Parameter\n",
    "import torch.nn.functional as F\n",
    "import torch.nn.init\n",
    "import torch.optim as optim\n",
    "from torch.autograd import Variable\n",
    "from tqdm import tqdm\n",
    "from scipy.stats import truncnorm\n",
    "\n",
    "class PTClassifier():\n",
    "    def __init__(self, net):\n",
    "        #constructor SLP\n",
    "        self.net = net()\n",
    "    \n",
    "    def train(self, trainData, trainLabels, testData, testLabels, epochs=1, batchsize=50):\n",
    "        criterion = nn.CrossEntropyLoss()\n",
    "        learning_rate=3e-4\n",
    "        optimizer = optim.Adam(self.net.parameters(),lr=learning_rate)\n",
    "        #loss_fn = nn.MSELoss(reduction='sum')\n",
    "        #loss_fn = nn.MSELoss()\n",
    "        criterion = nn.CrossEntropyLoss()\n",
    "        for epoch in range(epochs):\n",
    "            for i, (data,label) in enumerate(DataBatch(trainData, trainLabels, batchsize, shuffle=True)):\n",
    "                inputs = Variable(torch.FloatTensor(data))\n",
    "                targets = Variable(torch.LongTensor(label))\n",
    "                \n",
    "                # YOUR CODE HERE\n",
    "                # Train the model using the optimizer and the batch data\n",
    "                y_prediction = self.net.forward(inputs)\n",
    "                \n",
    "                #y_prediction_max = torch.argmax(y_prediction,1)\n",
    "                #y_pred = Variable(torch.FloatTensor(y_prediction_max),requires_grad = True)\n",
    "                #y_pred = Variable(torch.Tensor(y_prediction_max),requires_grad = True)\n",
    "                \n",
    "            \n",
    "                loss = criterion(y_prediction,targets)\n",
    "                \n",
    "                #loss = (y_prediction_max - targets).pow(2).sum()\n",
    "                #loss = loss_fn(y_prediction,)\n",
    "                optimizer.zero_grad()\n",
    "\n",
    "                #backprop\n",
    "                loss.backward()\n",
    "                #parameter update\n",
    "                optimizer.step()\n",
    "                    \n",
    "                \n",
    "            print ('Epoch:%d Accuracy: %f'%(epoch+1, test(testData, testLabels, self)))\n",
    "    \n",
    "    def __call__(self, x):\n",
    "        inputs = Variable(torch.FloatTensor(x))\n",
    "        prediction = self.net(inputs)\n",
    "        return np.argmax(prediction.data.cpu().numpy(), 1)\n",
    "    \n",
    "    def get_first_layer_weights(self):\n",
    "        return self.net.weight1.data.cpu().numpy()\n",
    "    \n",
    "\n",
    "# helper function to get weight variable\n",
    "def weight_variable(shape):\n",
    "    initial = torch.Tensor(truncnorm.rvs(-1/0.01, 1/0.01, scale=0.01, size=shape))\n",
    "    return Parameter(initial, requires_grad=True)\n",
    "\n",
    "# helper function to get bias variable\n",
    "def bias_variable(shape):\n",
    "    initial = torch.Tensor(np.ones(shape)*0.1)\n",
    "    return Parameter(initial, requires_grad=True)\n",
    "    \n",
    "# Define Single Layer Perceptron network\n",
    "class SLP(nn.Module):\n",
    "    def __init__(self, in_features=28*28, classes=10):\n",
    "        super(SLP, self).__init__()\n",
    "        # model variables\n",
    "        self.weight1 = weight_variable((classes, in_features))\n",
    "        self.bias1 = bias_variable((classes))\n",
    "        \n",
    "    def forward(self, x):\n",
    "        # linear operation\n",
    "        y_pred = torch.addmm(self.bias1, x.view(list(x.size())[0], -1), self.weight1.t())\n",
    "        return y_pred\n",
    "        \n",
    "\n",
    "# test the example linear classifier (note you should get around 92% accuracy\n",
    "# for 10 epochs and batchsize 50)\n",
    "trainData=np.array(list(read('training','images')))\n",
    "trainData=np.float32(np.expand_dims(trainData,-1))/255\n",
    "trainData=trainData.transpose((0,3,1,2))\n",
    "trainLabels=np.int32(np.array(list(read('training','labels'))))\n",
    "\n",
    "testData=np.array(list(read('testing','images')))\n",
    "testData=np.float32(np.expand_dims(testData,-1))/255\n",
    "testData=testData.transpose((0,3,1,2))\n",
    "testLabels=np.int32(np.array(list(read('testing','labels'))))\n",
    "\n",
    "linearClassifier = PTClassifier(SLP)\n",
    "linearClassifier.train(trainData, trainLabels, testData, testLabels, epochs=10)\n",
    "print ('Linear classifier accuracy: %f'%test(testData, testLabels, linearClassifier))"
   ]
  },
  {
   "cell_type": "markdown",
   "metadata": {},
   "source": [
    "### Part 3: Single Layer Perceptron [3 pts]\n",
    "The simple linear classifier implemented in the cell already performs quite well. Plot the filter weights corresponding to each output class (weights, not biases) as images. (Normalize weights to lie between 0 and 1 and use color maps like 'inferno' or 'plasma' for good results). Comment on what the weights look like and why that may be so.\n"
   ]
  },
  {
   "cell_type": "code",
   "execution_count": 8,
   "metadata": {},
   "outputs": [
    {
     "data": {
      "image/png": "[encoded data removed]",
      "text/plain": [
       "<Figure size 1080x1080 with 10 Axes>"
      ]
     },
     "metadata": {
      "needs_background": "light"
     },
     "output_type": "display_data"
    }
   ],
   "source": [
    "# Your code here.\n",
    "weights = linearClassifier.get_first_layer_weights();\n",
    "#normalise \n",
    "weights = (weights - np.min(weights))/(np.max(weights) - np.min(weights))\n",
    "#reshape 10*784 to 10*28*28\n",
    "#weights = weights.reshape(28, 28, -1)\n",
    "weights = weights.reshape(10,28,28)\n",
    "fig = plt.figure(figsize=(15,15))\n",
    "#plt.inferno()\n",
    "for i in range(weights.shape[0]):\n",
    "    weight = weights[i, :, :]\n",
    "    plt.subplot(5, 2, i+1)\n",
    "    plt.imshow(weight,cmap = 'inferno')\n",
    "plt.show()\n",
    "\n"
   ]
  },
  {
   "cell_type": "markdown",
   "metadata": {},
   "source": [
    "### Comment\n",
    "The weights of the different classes show the activation for the different inputs. The input data is mapped to the output in the single layer perceptron through the weights activation. Hence the weights seem to resemble the class of images which it pertains to. eg: 0 represents 0, 1 represents 1\n"
   ]
  },
  {
   "cell_type": "markdown",
   "metadata": {},
   "source": [
    "### Part 4: Multi Layer Perceptron (MLP) [7 pts]\n",
    "Here you will implement an MLP. The MLP shoud consist of 2 layers (matrix multiplication and bias offset) that map to the following feature dimensions:\n",
    "\n",
    "* 28x28 -> hidden (100)\n",
    "* hidden -> classes\n",
    "\n",
    "* The hidden layer should be followed with a ReLU nonlinearity. The final layer should not have a nonlinearity applied as we desire the raw logits output.\n",
    "* The final output of the computation graph should be stored in self.y as that will be used in the training.\n",
    "\n",
    "Display the confusion matrix and accuracy after training. Note: You should get around 97% accuracy for 10 epochs and batch size 50.\n",
    "\n",
    "Plot the filter weights corresponding to the mapping from the inputs to the first 10 hidden layer outputs (out of 100). Do the weights look similar to the weights plotted in the previous problem? Why or why not?"
   ]
  },
  {
   "cell_type": "code",
   "execution_count": 24,
   "metadata": {},
   "outputs": [
    {
     "name": "stdout",
     "output_type": "stream",
     "text": [
      "Epoch:1 Accuracy: 91.570000\n",
      "Epoch:2 Accuracy: 92.870000\n",
      "Epoch:3 Accuracy: 93.720000\n",
      "Epoch:4 Accuracy: 94.780000\n",
      "Epoch:5 Accuracy: 95.480000\n",
      "Epoch:6 Accuracy: 96.020000\n",
      "Epoch:7 Accuracy: 96.420000\n",
      "Epoch:8 Accuracy: 96.590000\n",
      "Epoch:9 Accuracy: 96.720000\n",
      "Epoch:10 Accuracy: 96.860000\n",
      "Linear classifier accuracy: 96.860000\n"
     ]
    }
   ],
   "source": [
    "# Define Multi Layer Perceptron network\n",
    "class MLP(nn.Module):\n",
    "    def __init__(self, in_features=28*28, hidden=100, classes=10):\n",
    "        super(MLP, self).__init__()\n",
    "        '''\n",
    "        your code here\n",
    "        '''\n",
    "        self.weight1 = weight_variable((hidden, in_features))\n",
    "        self.bias1 = bias_variable((hidden))\n",
    "        self.weight2 = weight_variable((classes,hidden))\n",
    "        self.bias2 = bias_variable((classes))\n",
    "        \n",
    "        \n",
    "    def forward(self, x):\n",
    "        '''\n",
    "        your code here\n",
    "        '''\n",
    "        y_first = torch.addmm(self.bias1, x.view(list(x.size())[0], -1), self.weight1.t())\n",
    "        hidden = torch.nn.functional.relu(y_first)\n",
    "        test_sh = hidden.view(list(hidden.size())[0],-1)\n",
    "        y_pred = torch.addmm(self.bias2, hidden.view(list(hidden.size())[0], -1), self.weight2.t())\n",
    "        return y_pred\n",
    "        \n",
    "        \n",
    "\n",
    "mlpClassifier = PTClassifier(MLP)\n",
    "mlpClassifier.train(trainData, trainLabels, testData, testLabels, epochs=10)\n",
    "print ('Linear classifier accuracy: %f'%test(testData, testLabels, mlpClassifier))"
   ]
  },
  {
   "cell_type": "code",
   "execution_count": 25,
   "metadata": {},
   "outputs": [
    {
     "data": {
      "image/png": "[encoded data removed]",
      "text/plain": [
       "<Figure size 1008x432 with 1 Axes>"
      ]
     },
     "metadata": {
      "needs_background": "light"
     },
     "output_type": "display_data"
    },
    {
     "name": "stdout",
     "output_type": "stream",
     "text": [
      "[[0.99 0.   0.   0.   0.   0.   0.   0.   0.   0.  ]\n",
      " [0.   0.99 0.   0.   0.   0.   0.   0.   0.   0.  ]\n",
      " [0.01 0.   0.96 0.01 0.   0.   0.01 0.01 0.01 0.  ]\n",
      " [0.   0.   0.   0.98 0.   0.   0.   0.01 0.   0.  ]\n",
      " [0.   0.   0.01 0.   0.95 0.   0.01 0.   0.   0.02]\n",
      " [0.   0.   0.   0.01 0.   0.96 0.01 0.   0.01 0.  ]\n",
      " [0.01 0.   0.   0.   0.   0.01 0.97 0.   0.   0.  ]\n",
      " [0.   0.01 0.01 0.01 0.   0.   0.   0.96 0.   0.01]\n",
      " [0.01 0.   0.   0.01 0.   0.   0.   0.   0.96 0.  ]\n",
      " [0.   0.01 0.   0.01 0.01 0.01 0.   0.   0.   0.96]]\n",
      "Linear classifier accuracy: 0.968600\n"
     ]
    }
   ],
   "source": [
    "# Confusion Matrix and Accuracy\n",
    "'''\n",
    "your code here\n",
    "'''\n",
    "M,accuracy = Confusion(testData, testLabels, mlpClassifier)\n",
    "VisualizeConfusion(M)\n",
    "print ('Linear classifier accuracy: %f'%accuracy)"
   ]
  },
  {
   "cell_type": "code",
   "execution_count": 26,
   "metadata": {},
   "outputs": [
    {
     "name": "stdout",
     "output_type": "stream",
     "text": [
      "(10, 784)\n"
     ]
    },
    {
     "data": {
      "image/png": "[encoded data removed]",
      "text/plain": [
       "<Figure size 1080x1080 with 10 Axes>"
      ]
     },
     "metadata": {
      "needs_background": "light"
     },
     "output_type": "display_data"
    }
   ],
   "source": [
    "# plot filter weights\n",
    "'''\n",
    "your code here\n",
    "'''\n",
    "weights = mlpClassifier.net.weight1.data.cpu().numpy()\n",
    "weights = (weights - np.min(weights))/(np.max(weights) - np.min(weights))\n",
    "weights = weights[:10]\n",
    "print(weights.shape)\n",
    "weights = weights.reshape(10,28,28)\n",
    "fig = plt.figure(figsize=(15,15))\n",
    "\n",
    "for i in range(weights.shape[0]):\n",
    "    weight = weights[i, :, :]\n",
    "    plt.subplot(5, 2, i+1)\n",
    "    plt.imshow(weight,cmap ='inferno')\n",
    "plt.show()"
   ]
  },
  {
   "cell_type": "markdown",
   "metadata": {},
   "source": [
    "### Comment\n",
    "No the images dont resemble the class. This can be attributed to the reasons below:\n",
    "->There are 100 hidden nodes in the intermediate layer with the weight matrix being 100 * 784 for the first layer. However we are plotting only the first 10 weights which does not capture all the information\n",
    "-> The network contains two layers, matrix multiplication and bias. So a single layer would not encode all the information for classification."
   ]
  },
  {
   "cell_type": "markdown",
   "metadata": {},
   "source": [
    "### Part 5: Convolutional Neural Network (CNN) [5 pts]\n",
    "Here you will implement a CNN with the following architecture:\n",
    "\n",
    "* n=5\n",
    "* ReLU( Conv(kernel_size=4x4, stride=2, output_features=n) )\n",
    "* ReLU( Conv(kernel_size=4x4, stride=2, output_features=n*2) )\n",
    "* ReLU( Conv(kernel_size=4x4, stride=2, output_features=n*4) )\n",
    "* Linear(output_features=classes)\n",
    "\n",
    "Display the confusion matrix and accuracy after training. You should get around 98% accuracy for 10 epochs and batch size 50."
   ]
  },
  {
   "cell_type": "code",
   "execution_count": 27,
   "metadata": {},
   "outputs": [
    {
     "name": "stdout",
     "output_type": "stream",
     "text": [
      "Epoch:1 Accuracy: 90.700000\n",
      "Epoch:2 Accuracy: 93.190000\n",
      "Epoch:3 Accuracy: 94.500000\n",
      "Epoch:4 Accuracy: 95.890000\n",
      "Epoch:5 Accuracy: 96.580000\n",
      "Epoch:6 Accuracy: 97.090000\n",
      "Epoch:7 Accuracy: 97.180000\n",
      "Epoch:8 Accuracy: 97.440000\n",
      "Epoch:9 Accuracy: 97.350000\n",
      "Epoch:10 Accuracy: 97.720000\n",
      "Linear classifier accuracy: 97.720000\n"
     ]
    }
   ],
   "source": [
    "def conv2d(x, W, stride):\n",
    "    # x: input\n",
    "    # W: weights (out, in, kH, kW)\n",
    "    return F.conv2d(x, W, stride=stride, padding=1)\n",
    "\n",
    "# Define Convolutional Neural Network\n",
    "class CNN(nn.Module):\n",
    "    def __init__(self, classes=10, n=5):\n",
    "        super(CNN, self).__init__()\n",
    "        '''\n",
    "        your code here\n",
    "        '''\n",
    "        self.weight1 = weight_variable([n,1,4,4])\n",
    "        #self.weight1 = weight_variable([1,n,4,4])\n",
    "        self.bias1 = bias_variable([n,1,1])\n",
    "        self.weight2 = weight_variable([2*n,n,4,4])\n",
    "        #self.weight2 = weight_variable([n,2*n,4,4])\n",
    "        self.bias2 = bias_variable([2*n,1,1])\n",
    "        self.weight3 = weight_variable([4*n,2*n,4,4])\n",
    "        #self.weight3 = weight_variable([2*n,4*n,4,4])\n",
    "        self.bias3 = bias_variable([4*n,1,1])\n",
    "        self.weight4 = weight_variable([ classes,4*n*3*3,])\n",
    "        self.bias4 = weight_variable([classes])\n",
    "        \n",
    "        \n",
    "    def forward(self, x):\n",
    "        '''\n",
    "        your code here\n",
    "        '''\n",
    "        #x = x.view(list(x.size())[0], -1)\n",
    "        x = x.reshape(x.shape[0],1,28,28)\n",
    "        #x = x.reshape(28,28,1,50)\n",
    "\n",
    "        x= F.relu(conv2d(x, self.weight1,2) + self.bias1)\n",
    "        x= F.relu(conv2d(x, self.weight2,2) + self.bias2)\n",
    "        x= F.relu(conv2d(x, self.weight3,2) + self.bias3)\n",
    "        y_pred = torch.addmm(self.bias4, x.view(list(x.size())[0], -1), self.weight4.t())\n",
    "        return y_pred\n",
    "\n",
    "cnnClassifer = PTClassifier(CNN)\n",
    "cnnClassifer.train(trainData, trainLabels, testData, testLabels, epochs=10)\n",
    "print ('Linear classifier accuracy: %f'%test(testData, testLabels, cnnClassifer))"
   ]
  },
  {
   "cell_type": "code",
   "execution_count": 28,
   "metadata": {},
   "outputs": [
    {
     "data": {
      "image/png": "[encoded data removed]",
      "text/plain": [
       "<Figure size 1008x432 with 1 Axes>"
      ]
     },
     "metadata": {
      "needs_background": "light"
     },
     "output_type": "display_data"
    },
    {
     "name": "stdout",
     "output_type": "stream",
     "text": [
      "[[0.99 0.   0.   0.   0.   0.   0.   0.   0.   0.  ]\n",
      " [0.   0.99 0.   0.   0.   0.   0.   0.   0.   0.  ]\n",
      " [0.01 0.   0.98 0.   0.   0.   0.   0.   0.01 0.  ]\n",
      " [0.   0.   0.01 0.97 0.   0.01 0.   0.01 0.01 0.  ]\n",
      " [0.   0.   0.01 0.   0.98 0.   0.01 0.   0.   0.01]\n",
      " [0.   0.   0.   0.   0.   0.97 0.01 0.   0.01 0.  ]\n",
      " [0.01 0.   0.   0.   0.   0.01 0.98 0.   0.   0.  ]\n",
      " [0.   0.   0.01 0.   0.   0.   0.   0.98 0.   0.  ]\n",
      " [0.   0.   0.   0.   0.   0.   0.   0.   0.98 0.  ]\n",
      " [0.   0.   0.   0.01 0.01 0.01 0.   0.01 0.   0.95]]\n",
      "Linear classifier accuracy: 0.977200\n"
     ]
    }
   ],
   "source": [
    "# Confusion Matrix and Accuracy\n",
    "'''\n",
    "your code here\n",
    "'''\n",
    "M,accuracy = Confusion(testData, testLabels, cnnClassifer)\n",
    "VisualizeConfusion(M)\n",
    "print ('Linear classifier accuracy: %f'%accuracy)"
   ]
  },
  {
   "cell_type": "markdown",
   "metadata": {},
   "source": [
    "* Note that the MLP/ConvNet approaches lead to an accuracy a little higher than the K-NN approach. \n",
    "* In general, neural net approaches lead to a significant increase in accuracy, but in this case the problem is not too hard, so the increase in accuracy will not be very high.\n",
    "* However, this is still quite significant considering the fact that the ConvNets we've used are relatively simple while the accuracy achieved using K-NN is with a search over 60,000 training images for every test image.\n",
    "* You can look at the performance of various machine learning methods on this problem at http://yann.lecun.com/exdb/mnist/\n",
    "* You can learn more about PyTorch at https://pytorch.org/tutorials/index.html\n",
    "* You can find another image classifier training example at https://pytorch.org/tutorials/beginner/blitz/cifar10_tutorial.html#sphx-glr-beginner-blitz-cifar10-tutorial-py\n",
    "* You can play with a demo of neural network created by Daniel Smilkov and Shan Carter at https://playground.tensorflow.org/"
   ]
  },
  {
   "cell_type": "code",
   "execution_count": null,
   "metadata": {},
   "outputs": [],
   "source": []
  }
 ],
 "metadata": {
  "kernelspec": {
   "display_name": "Python 2",
   "language": "python",
   "name": "python2"
  },
  "language_info": {
   "codemirror_mode": {
    "name": "ipython",
    "version": 2
   },
   "file_extension": ".py",
   "mimetype": "text/x-python",
   "name": "python",
   "nbconvert_exporter": "python",
   "pygments_lexer": "ipython2",
   "version": "2.7.15+"
  }
 },
 "nbformat": 4,
 "nbformat_minor": 2
}
